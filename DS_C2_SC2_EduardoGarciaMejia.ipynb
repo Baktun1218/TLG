{
  "nbformat": 4,
  "nbformat_minor": 0,
  "metadata": {
    "colab": {
      "provenance": [],
      "include_colab_link": true
    },
    "kernelspec": {
      "name": "python3",
      "display_name": "Python 3"
    },
    "language_info": {
      "name": "python"
    }
  },
  "cells": [
    {
      "cell_type": "markdown",
      "metadata": {
        "id": "view-in-github",
        "colab_type": "text"
      },
      "source": [
        "<a href=\"https://colab.research.google.com/github/Baktun1218/TLG/blob/main/DS_C2_SC2_EduardoGarciaMejia.ipynb\" target=\"_parent\"><img src=\"https://colab.research.google.com/assets/colab-badge.svg\" alt=\"Open In Colab\"/></a>"
      ]
    },
    {
      "cell_type": "markdown",
      "source": [
        "## A. Extraer la información del archivo.\n",
        "Carga de los datos desde el archivo `country_vaccinations.csv` para utilizarlos en análisis posteriores."
      ],
      "metadata": {
        "id": "dJQb0gNLFDbU"
      }
    },
    {
      "cell_type": "code",
      "execution_count": null,
      "metadata": {
        "id": "qNeF8vLZ6MFm"
      },
      "outputs": [],
      "source": [
        "\n",
        "import pandas as pd\n",
        "\n",
        "# Cargar los datos desde el archivo CSV\n",
        "data = pd.read_csv('country_vaccinations.csv')\n",
        "\n",
        "# Mostrar las primeras filas del DataFrame para verificar la carga correcta\n",
        "print(data.head())\n",
        "\n",
        "\n",
        "\n"
      ]
    },
    {
      "cell_type": "markdown",
      "source": [
        "## B. Mostrar la estructura y tipos de datos de cada columna para identificar qué operaciones puedes realizar con cada una de ellas, asegurándote que las columnas con fechas sean del tipo datetime64. Estructura y Tipos de Datos\n"
      ],
      "metadata": {
        "id": "HsDv3VdCFdFb"
      }
    },
    {
      "cell_type": "code",
      "source": [
        "\n",
        "# Mostrar la información del DataFrame, incluyendo el tipo de datos de cada columna\n",
        "print(data.info())\n",
        "\n",
        "# Convertir columnas que contienen fechas al tipo datetime64 si no lo están\n",
        "data['date'] = pd.to_datetime(data['date'], format='%Y-%m-%d')\n",
        "\n",
        "# Verificar nuevamente los tipos de datos para confirmar la conversión\n",
        "print(data.info())"
      ],
      "metadata": {
        "id": "GIrWOoVyFbB1"
      },
      "execution_count": null,
      "outputs": []
    },
    {
      "cell_type": "markdown",
      "source": [
        "## C. Determinar la cantidad de vacunas aplicadas de cada compañía (con base en cómo lo reporta cada país en la columna vaccines, en otras palabras, agrupe por vaccines y realice la sumatoria)."
      ],
      "metadata": {
        "id": "apMVKq9p-1vH"
      }
    },
    {
      "cell_type": "code",
      "source": [
        "# Agrupar por la columna 'vaccines' y sumar los valores de 'total_vaccinations' para cada grupo\n",
        "vaccination_sums_by_group = data.groupby('vaccines')['total_vaccinations'].sum()\n",
        "\n",
        "# Resetear el índice para obtener un DataFrame limpio\n",
        "vaccination_sums_by_group = vaccination_sums_by_group.reset_index()\n",
        "\n",
        "# Mostrar el resultado\n",
        "print(vaccination_sums_by_group)\n",
        "\n"
      ],
      "metadata": {
        "id": "rv6bJA5A-5MZ"
      },
      "execution_count": null,
      "outputs": []
    },
    {
      "cell_type": "markdown",
      "source": [
        "## D. Obtener la cantidad de vacunas aplicadas en todo el mundo.\n",
        "\n"
      ],
      "metadata": {
        "id": "YLIu8mEUE7Dv"
      }
    },
    {
      "cell_type": "code",
      "source": [
        "# Sumar todos los valores en la columna 'total_vaccinations'\n",
        "total_vaccinations_sum = data['total_vaccinations'].sum()\n",
        "print(f\"Suma total de vacunaciones: {total_vaccinations_sum}\")\n"
      ],
      "metadata": {
        "id": "BXa2lNq9CyQT"
      },
      "execution_count": null,
      "outputs": []
    },
    {
      "cell_type": "markdown",
      "source": [
        "## E. Calcular el promedio de vacunas aplicadas por país."
      ],
      "metadata": {
        "id": "s5KHIqebGzh5"
      }
    },
    {
      "cell_type": "code",
      "source": [
        "# Agrupar por país y calcular el promedio de 'total_vaccinations' para cada uno\n",
        "average_vaccinations_by_country = data.groupby('country')['total_vaccinations'].mean()\n",
        "\n",
        "# Resetear el índice para obtener un DataFrame limpio\n",
        "average_vaccinations_by_country = average_vaccinations_by_country.reset_index()\n",
        "\n",
        "# Mostrar el resultado\n",
        "print(average_vaccinations_by_country)\n"
      ],
      "metadata": {
        "id": "iyNtAa9tG1Zk"
      },
      "execution_count": null,
      "outputs": []
    },
    {
      "cell_type": "markdown",
      "source": [
        "## F. Determinar la cantidad de vacunas aplicadas el día 29/01/21 en todo el mundo."
      ],
      "metadata": {
        "id": "1qHamwlDHD9-"
      }
    },
    {
      "cell_type": "code",
      "source": [
        "# Filtrar el DataFrame por la fecha deseada\n",
        "daily_vaccinations_on_date = data[data['date'] == '2021-01-29']\n",
        "\n",
        "# Sumar los valores de 'daily_vaccinations' para esa fecha\n",
        "total_vaccinations_on_date = daily_vaccinations_on_date['total_vaccinations'].sum()\n",
        "print(f\"Total de vacunas aplicadas en todo el mundo el 29/01/21: {total_vaccinations_on_date}\")\n"
      ],
      "metadata": {
        "id": "p8pQEuE9HJQh"
      },
      "execution_count": null,
      "outputs": []
    },
    {
      "cell_type": "markdown",
      "source": [
        "## G. Crear un dataframe nuevo denominado conDiferencias que contenga los datos originales y una columna derivada (diferencias) con las diferencias de aplicación entre las columnas daily_vaccionations y daily_vaccionations_raw.  "
      ],
      "metadata": {
        "id": "TDAZjLOGHjcu"
      }
    },
    {
      "cell_type": "code",
      "source": [
        "# Crear el nuevo DataFrame `conDiferencias`\n",
        "conDiferencias = data.copy()\n",
        "\n",
        "# Calcular las diferencias y agregar la nueva columna al DataFrame\n",
        "conDiferencias['diferencias'] = conDiferencias['daily_vaccinations'] - conDiferencias['daily_vaccinations_raw']\n",
        "\n",
        "# Mostrar las primeras filas del nuevo DataFrame para verificar\n",
        "print(conDiferencias.head())\n"
      ],
      "metadata": {
        "id": "l7OmygFKH1Y5"
      },
      "execution_count": null,
      "outputs": []
    },
    {
      "cell_type": "markdown",
      "source": [
        "## H. Obtener el periodo de tiempo entre el registro con fecha más reciente y el registro con fecha más antigua.\n"
      ],
      "metadata": {
        "id": "ROnrj3ScIbnz"
      }
    },
    {
      "cell_type": "code",
      "source": [
        "# Encontrar la fecha más reciente y la más antigua\n",
        "max_date = data['date'].max()\n",
        "min_date = data['date'].min()\n",
        "\n",
        "# Calcular la diferencia en tiempo\n",
        "time_period = max_date - min_date\n",
        "\n",
        "# Mostrar el periodo de tiempo\n",
        "print(f\"El periodo de tiempo entre el registro más reciente y el más antiguo es: {time_period}\")\n"
      ],
      "metadata": {
        "id": "k4ZE-HoMIcaT"
      },
      "execution_count": null,
      "outputs": []
    },
    {
      "cell_type": "markdown",
      "source": [
        "## I. Crear un dataframe nuevo denominado conCantidad que contenga los datos originales y una columna derivada (canVac) con la cantidad de vacunas utilizadas cada día (usar la columna vaccines y separar por el carácter , ).\n"
      ],
      "metadata": {
        "id": "m2TMEZftIsI_"
      }
    },
    {
      "cell_type": "code",
      "source": [
        "# Copiar el DataFrame original para preservar los datos\n",
        "conCantidad = data.copy()\n",
        "\n",
        "# Función para contar el número de tipos de vacunas en cada entrada\n",
        "def count_vaccines(vaccine_string):\n",
        "    # Dividir la cadena por comas y eliminar espacios extra\n",
        "    vaccines = [v.strip() for v in vaccine_string.split(',')]\n",
        "    # Devolver la cantidad de elementos únicos\n",
        "    return len(set(vaccines))\n",
        "\n",
        "# Aplicar la función a la columna 'vaccines' y crear una nueva columna 'canVac'\n",
        "conCantidad['canVac'] = conCantidad['vaccines'].apply(count_vaccines)\n",
        "\n",
        "# Mostrar las primeras filas del nuevo DataFrame para verificar\n",
        "print(conCantidad.head())\n"
      ],
      "metadata": {
        "id": "fDTFxwMIItS3"
      },
      "execution_count": null,
      "outputs": []
    },
    {
      "cell_type": "markdown",
      "source": [
        "## J. Generar un dataframe denominado antes20 con todos los registros que se hayan realizado antes del 20 de diciembre de 2020.\n"
      ],
      "metadata": {
        "id": "HPy7_T-6JeR-"
      }
    },
    {
      "cell_type": "code",
      "source": [
        "# Filtrar los datos para obtener solo aquellos antes del 20 de diciembre de 2020\n",
        "antes20 = data[data['date'] < '2020-12-20']\n",
        "\n",
        "# Mostrar las primeras filas del DataFrame filtrado para verificar\n",
        "print(antes20.head())\n"
      ],
      "metadata": {
        "id": "m0of_jhKJfGQ"
      },
      "execution_count": null,
      "outputs": []
    },
    {
      "cell_type": "markdown",
      "source": [
        "## K. Obtener un dataframe denominado pfizer con todos los registros donde se haya utilizado la vacuna Pfizer.\n"
      ],
      "metadata": {
        "id": "IlMvlTliJ4XF"
      }
    },
    {
      "cell_type": "code",
      "source": [
        "# Filtrar los datos para obtener solo aquellos registros que mencionan 'Pfizer' en la columna 'vaccines'\n",
        "pfizer = data[data['vaccines'].str.contains('Pfizer', na=False)]\n",
        "\n",
        "# Mostrar las primeras filas del DataFrame filtrado para verificar\n",
        "print(pfizer.head())\n"
      ],
      "metadata": {
        "id": "fs0EjSEdJ5d4"
      },
      "execution_count": null,
      "outputs": []
    },
    {
      "cell_type": "markdown",
      "source": [
        "## L. Almacenar los dataframes generados (conDiferencias, conCantidad, antes20 y pfizer) en un archivo de Excel denominado resultadosReto.xlsx, donde cada dataframe ocupe una hoja diferente. Se recomienda ver la documentación de pd.ExcelWriter.\n"
      ],
      "metadata": {
        "id": "ZWne0qPDKQKu"
      }
    },
    {
      "cell_type": "code",
      "source": [
        "# Instalar la biblioteca openpyxl.\n",
        "\n",
        "!pip install openpyxl\n",
        "\n",
        "#Comprbacion que la liberia fue instalada\n",
        "!pip show openpyxl\n",
        "\n",
        "# Importar la librería necesaria para trabajar con archivos Excel\n",
        "import pandas as pd\n",
        "\n",
        "# Crear un objeto ExcelWriter\n",
        "with pd.ExcelWriter('resultadosReto.xlsx') as writer:\n",
        "    # Guardar cada DataFrame en una hoja diferente\n",
        "    conDiferencias.to_excel(writer, sheet_name='ConDiferencias')\n",
        "    conCantidad.to_excel(writer, sheet_name='ConCantidad')\n",
        "    antes20.to_excel(writer, sheet_name='Antes20')\n",
        "    pfizer.to_excel(writer, sheet_name='Pfizer')\n",
        "\n",
        "# Verificación (opcional) - imprimir mensaje de éxito\n",
        "print(\"DataFrames almacenados exitosamente en resultadosReto.xlsx\")\n"
      ],
      "metadata": {
        "colab": {
          "base_uri": "https://localhost:8080/"
        },
        "id": "zkARDJ_LKP9j",
        "outputId": "0b2f64e2-5c48-46f4-e578-b760fe37dc4c"
      },
      "execution_count": 13,
      "outputs": [
        {
          "output_type": "stream",
          "name": "stdout",
          "text": [
            "Requirement already satisfied: openpyxl in /usr/local/lib/python3.10/dist-packages (3.1.2)\n",
            "Requirement already satisfied: et-xmlfile in /usr/local/lib/python3.10/dist-packages (from openpyxl) (1.1.0)\n",
            "Name: openpyxl\n",
            "Version: 3.1.2\n",
            "Summary: A Python library to read/write Excel 2010 xlsx/xlsm files\n",
            "Home-page: https://openpyxl.readthedocs.io\n",
            "Author: See AUTHORS\n",
            "Author-email: charlie.clark@clark-consulting.eu\n",
            "License: MIT\n",
            "Location: /usr/local/lib/python3.10/dist-packages\n",
            "Requires: et-xmlfile\n",
            "Required-by: \n",
            "DataFrames almacenados exitosamente en resultadosReto.xlsx\n"
          ]
        }
      ]
    }
  ]
}